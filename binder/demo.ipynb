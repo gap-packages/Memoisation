{
 "cells": [
  {
   "cell_type": "markdown",
   "metadata": {},
   "source": [
    "# Memoisation demo"
   ]
  },
  {
   "cell_type": "markdown",
   "metadata": {},
   "source": [
    "In this notebook we will show a few features of the Memoisation package for GAP."
   ]
  },
  {
   "cell_type": "markdown",
   "metadata": {},
   "source": [
    "## Installation\n",
    "We can install Memoisation using GAP's package manager.  Let's use the v0.8 released version."
   ]
  },
  {
   "cell_type": "code",
   "execution_count": null,
   "metadata": {},
   "outputs": [],
   "source": [
    "LoadPackage(\"PackageManager\");;\n",
    "InstallPackage(\"https://github.com/gap-packages/Memoisation/releases/download/v0.8/Memoisation-0.8.tar.gz\");"
   ]
  },
  {
   "cell_type": "code",
   "execution_count": null,
   "metadata": {},
   "outputs": [],
   "source": [
    "LoadPackage(\"Memoisation\");"
   ]
  },
  {
   "cell_type": "markdown",
   "metadata": {},
   "source": [
    "## Basic usage\n",
    "Memoising a function is as simple as wrapping it with `MemoisedFunction`.  Consider the following simple example."
   ]
  },
  {
   "cell_type": "code",
   "execution_count": null,
   "metadata": {},
   "outputs": [],
   "source": [
    "double := x -> x * 2;;\n",
    "memo_double := MemoisedFunction(double);"
   ]
  },
  {
   "cell_type": "markdown",
   "metadata": {},
   "source": [
    "Now `double` is a simple function that returns the double of its input, and `memo_double` is a memoised version which will save and load its results to and from the disk.\n",
    "\n",
    "Let's see `memo_double` in action."
   ]
  },
  {
   "cell_type": "code",
   "execution_count": null,
   "metadata": {},
   "outputs": [],
   "source": [
    "memo_double(4);"
   ]
  },
  {
   "cell_type": "markdown",
   "metadata": {},
   "source": [
    "Since we have not tried doubling `4` before, the key was \"unknown\".  We computed it, and it is now saved to the disk.\n",
    "\n",
    "What happens if we call it again?"
   ]
  },
  {
   "cell_type": "code",
   "execution_count": null,
   "metadata": {},
   "outputs": [],
   "source": [
    "memo_double(4);"
   ]
  },
  {
   "cell_type": "markdown",
   "metadata": {},
   "source": [
    "The key is now known, meaning that we were able to retrieve the result from the cache!  Our `double` function was not called a second time, so we didn't have to waste time recomputing the result.\n",
    "\n",
    "We can run this over any arguments we want, and the results will be stored."
   ]
  },
  {
   "cell_type": "code",
   "execution_count": null,
   "metadata": {},
   "outputs": [],
   "source": [
    "memo_double(2); memo_double(6.5);"
   ]
  },
  {
   "cell_type": "markdown",
   "metadata": {},
   "source": [
    "## How is it stored?\n",
    "In fact, files were created on our system to store these results, inside the newly-created `memo/` directory.  Let's take a look at the files that were created."
   ]
  },
  {
   "cell_type": "code",
   "execution_count": null,
   "metadata": {},
   "outputs": [],
   "source": [
    "DirectoryContents(\"memo/\");"
   ]
  },
  {
   "cell_type": "code",
   "execution_count": null,
   "metadata": {},
   "outputs": [],
   "source": [
    "DirectoryContents(\"memo/double/\");"
   ]
  },
  {
   "cell_type": "markdown",
   "metadata": {},
   "source": [
    "One `.out` file was created for each stored result.  The file names and contents aren't human-readable, but we can customise how they work by specifying more options to `MemoisedFunction`."
   ]
  },
  {
   "cell_type": "markdown",
   "metadata": {},
   "source": [
    "## Options\n",
    "We can specify options to customise the way the cache is created."
   ]
  },
  {
   "cell_type": "code",
   "execution_count": null,
   "metadata": {},
   "outputs": [],
   "source": [
    "power := MemoisedFunction({x, y} -> x ^ y,\n",
    "            rec(funcname := \"power_number\",\n",
    "                cache := \"file://arithmetic_results\",\n",
    "                hash := k -> StringFormatted(\"{}_to_the_{}\", k[1], k[2]),\n",
    "                pickle := String,\n",
    "                unpickle := Int));"
   ]
  },
  {
   "cell_type": "markdown",
   "metadata": {},
   "source": [
    "Now `power` is a memoised function that takes two integers and returns the result of raising one to the power of the other.\n",
    "\n",
    "It saves its results in `arithmetic_results/power_number/`, using the form `<x>_to_the_<y>.out` as a filename, and storing the output in a human-readable form."
   ]
  },
  {
   "cell_type": "code",
   "execution_count": null,
   "metadata": {},
   "outputs": [],
   "source": [
    "power(2, 3);"
   ]
  },
  {
   "cell_type": "code",
   "execution_count": null,
   "metadata": {},
   "outputs": [],
   "source": [
    "power(10, 3);"
   ]
  },
  {
   "cell_type": "code",
   "execution_count": null,
   "metadata": {},
   "outputs": [],
   "source": [
    "DirectoryContents(\"arithmetic_results/power_number/\");"
   ]
  },
  {
   "cell_type": "code",
   "execution_count": null,
   "metadata": {},
   "outputs": [],
   "source": [
    "StringFile(\"arithmetic_results/power_number/2_to_the_3.out\");"
   ]
  },
  {
   "cell_type": "markdown",
   "metadata": {},
   "source": [
    "For a full description of all the options available, see the package documentation at https://gap-packages.github.io/Memoisation/doc/chap0.html"
   ]
  }
 ],
 "metadata": {
  "kernelspec": {
   "display_name": "GAP 4",
   "language": "gap",
   "name": "gap-4"
  },
  "language_info": {
   "codemirror_mode": "gap",
   "file_extension": ".g",
   "mimetype": "text/x-gap",
   "name": "GAP 4",
   "nbconvert_exporter": "",
   "pygments_lexer": "gap",
   "version": "4.10.2"
  }
 },
 "nbformat": 4,
 "nbformat_minor": 2
}
